{
 "cells": [
  {
   "cell_type": "markdown",
   "id": "c1707b55-5a73-4efd-993f-5e162ddd32a1",
   "metadata": {},
   "source": [
    "[![Open in Colab](https://colab.research.google.com/assets/colab-badge.svg)](https://colab.research.google.com/github/tanikina/mi-tutorials/blob/main/notebooks/LogitLens.ipynb)"
   ]
  },
  {
   "cell_type": "markdown",
   "id": "96d85f56-4c1c-4d59-939c-6634e9f5c58e",
   "metadata": {},
   "source": [
    "Following mostly [this tutorial](https://nnsight.net/notebooks/tutorials/logit_lens/) but using a different (smaller) model."
   ]
  },
  {
   "cell_type": "code",
   "execution_count": null,
   "id": "6dad14f5-1eec-4516-9b27-ffbbfaba23fe",
   "metadata": {},
   "outputs": [],
   "source": [
    "!pip install nnsight\n",
    "!pip install plotly"
   ]
  },
  {
   "cell_type": "code",
   "execution_count": 1,
   "id": "a3d287f0-353c-4a51-8c08-24f19e86aa22",
   "metadata": {},
   "outputs": [],
   "source": [
    "from IPython.display import clear_output\n",
    "from nnsight import LanguageModel\n",
    "from typing import List, Callable\n",
    "import torch\n",
    "import numpy as np\n",
    "from IPython.display import clear_output\n",
    "\n",
    "clear_output()"
   ]
  },
  {
   "cell_type": "code",
   "execution_count": 2,
   "id": "5a580f20-151e-4bbd-a704-d9323961dbdc",
   "metadata": {},
   "outputs": [],
   "source": [
    "# Load gpt2\n",
    "model = LanguageModel(\"ComCom/gpt2-small\", device_map=\"auto\")#, dispatch=True)"
   ]
  },
  {
   "cell_type": "code",
   "execution_count": 3,
   "id": "aba739e1-0caf-4c15-9045-0700db004859",
   "metadata": {},
   "outputs": [
    {
     "name": "stdout",
     "output_type": "stream",
     "text": [
      "GPT2LMHeadModel(\n",
      "  (transformer): GPT2Model(\n",
      "    (wte): Embedding(50257, 768)\n",
      "    (wpe): Embedding(1024, 768)\n",
      "    (drop): Dropout(p=0.1, inplace=False)\n",
      "    (h): ModuleList(\n",
      "      (0-11): 12 x GPT2Block(\n",
      "        (ln_1): LayerNorm((768,), eps=1e-05, elementwise_affine=True)\n",
      "        (attn): GPT2Attention(\n",
      "          (c_attn): Conv1D()\n",
      "          (c_proj): Conv1D()\n",
      "          (attn_dropout): Dropout(p=0.1, inplace=False)\n",
      "          (resid_dropout): Dropout(p=0.1, inplace=False)\n",
      "        )\n",
      "        (ln_2): LayerNorm((768,), eps=1e-05, elementwise_affine=True)\n",
      "        (mlp): GPT2MLP(\n",
      "          (c_fc): Conv1D()\n",
      "          (c_proj): Conv1D()\n",
      "          (act): NewGELUActivation()\n",
      "          (dropout): Dropout(p=0.1, inplace=False)\n",
      "        )\n",
      "      )\n",
      "    )\n",
      "    (ln_f): LayerNorm((768,), eps=1e-05, elementwise_affine=True)\n",
      "  )\n",
      "  (lm_head): Linear(in_features=768, out_features=50257, bias=False)\n",
      "  (generator): Generator(\n",
      "    (streamer): Streamer()\n",
      "  )\n",
      ")\n"
     ]
    }
   ],
   "source": [
    "print(model)"
   ]
  },
  {
   "cell_type": "markdown",
   "id": "a80539d1-e4d8-41fb-85b8-61777c7aef7f",
   "metadata": {},
   "source": [
    "To apply logit lens, we collect activations at each layer’s output, apply layer normalization (model.transformer.ln_f), and then process through the model’s head (model.lm_head) to get the logits. Next, we apply the softmax to the logits to obtain output token probabilities.\n",
    "\n",
    "By observing different layers’ output token probabilities, logit lens provides insights into the model’s confidence throughout processing steps."
   ]
  },
  {
   "cell_type": "code",
   "execution_count": 4,
   "id": "5f91b876-fd77-45cd-8cbb-bb0113830848",
   "metadata": {},
   "outputs": [],
   "source": [
    "prompt= \"The Eiffel Tower is in the city of\"\n",
    "layers = model.transformer.h\n",
    "probs_layers = []\n",
    "\n",
    "with model.trace() as tracer:\n",
    "    with tracer.invoke(prompt) as invoker:\n",
    "        for layer_idx, layer in enumerate(layers):\n",
    "            # Process layer output through the model's head and layer normalization\n",
    "            layer_output = model.lm_head(model.transformer.ln_f(layer.output[0]))\n",
    "\n",
    "            # Apply softmax to obtain probabilities and save the result\n",
    "            probs = torch.nn.functional.softmax(layer_output, dim=-1).save()\n",
    "            probs_layers.append(probs)\n",
    "\n",
    "probs = torch.cat([probs.value for probs in probs_layers])\n",
    "\n",
    "# Find the maximum probability and corresponding tokens for each position\n",
    "max_probs, tokens = probs.max(dim=-1)\n",
    "\n",
    "# Decode token IDs to words for each layer\n",
    "words = [[model.tokenizer.decode(t.cpu()).encode(\"unicode_escape\").decode() for t in layer_tokens]\n",
    "    for layer_tokens in tokens]\n",
    "\n",
    "# Access the 'input_ids' attribute of the invoker object to get the input words\n",
    "input_words = [model.tokenizer.decode(t) for t in invoker.inputs[0][0][\"input_ids\"][0]]"
   ]
  },
  {
   "cell_type": "markdown",
   "id": "a61b3c65-e2f3-4c5c-903a-94ed2a667e1c",
   "metadata": {},
   "source": [
    "Now we will visualize the prediction of the GPT-2 model while processing the string ``’The Eiffel Tower is in the city of’`` and we’ll explore the interpretations of each layer within the GPT2Block, gaining insights into what each layer believes could be the next word for every input word."
   ]
  },
  {
   "cell_type": "code",
   "execution_count": 5,
   "id": "9c307220-4140-432b-a35e-01fd5e3085b0",
   "metadata": {
    "scrolled": true
   },
   "outputs": [
    {
     "data": {
      "text/html": [
       "<html>\n",
       "<head><meta charset=\"utf-8\" /></head>\n",
       "<body>\n",
       "    <div>            <script src=\"https://cdnjs.cloudflare.com/ajax/libs/mathjax/2.7.5/MathJax.js?config=TeX-AMS-MML_SVG\"></script><script type=\"text/javascript\">if (window.MathJax && window.MathJax.Hub && window.MathJax.Hub.Config) {window.MathJax.Hub.Config({SVG: {font: \"STIX-Web\"}});}</script>                <script type=\"text/javascript\">window.PlotlyConfig = {MathJaxConfig: 'local'};</script>\n",
       "        <script charset=\"utf-8\" src=\"https://cdn.plot.ly/plotly-3.0.0.min.js\"></script>                <div id=\"c724c0a3-23da-484d-af56-a6ab99640103\" class=\"plotly-graph-div\" style=\"height:525px; width:100%;\"></div>            <script type=\"text/javascript\">                window.PLOTLYENV=window.PLOTLYENV || {};                                if (document.getElementById(\"c724c0a3-23da-484d-af56-a6ab99640103\")) {                    Plotly.newPlot(                        \"c724c0a3-23da-484d-af56-a6ab99640103\",                        [{\"coloraxis\":\"coloraxis\",\"name\":\"0\",\"texttemplate\":\"%{text}\",\"x\":[\"The\",\" E\",\"iff\",\"el\",\" Tower\",\" is\",\" in\",\" the\",\" city\",\" of\"],\"y\":[0,1,2,3,4,5,6,7,8,9,10,11],\"z\":{\"dtype\":\"f4\",\"bdata\":\"warMPNG9+D0vTko\\u002faBiOPnBrfz9xw6U+AZfUPk6GQD9xaQs\\u002feKMwP1VvQj0D5K094ACyPvK8ET+G1ns\\u002f4gmHPvTsLz8IbFg\\u002fNzMbP\\u002fEcUD8QgtU8TpOePhk\\u002fND9592E+7AxrP2mcsj7jKyM\\u002fNk9zP6azFT+pXjg\\u002fgd\\u002fXPDnIxD5VBQE\\u002fKLCEPp7mHz+EGsU+ijGPPvXreD9Rj40+lRMwP4kc1jwNEZo+lEJZPtuNPD7NSzw\\u002fAiD5PoGZwT4M13U\\u002fZALUPkIz1D4WZ9I85zkKPl1whT4O+oo+SAA7P1sCxz5Y38k+Px0sP8mAmD5crGs9+kjQPEsfUT5S8wo\\u002foPY8P7yuvj4imt0+FqrLPi3gHz+Uej8+MBxoPRaKzzyuU1g+OgY0P\\u002fWefT+MEHI+zOPMPjFH7T4xqUM\\u002fWe92PmnZCj7pXM88qc3uPS4\\u002f5D6GQX8\\u002fr14VPsHVIj+e7EU+5RBZP2V9yz4YOUQ+9GfPPNGLhD3XjVA\\u002fR4V\\u002fP1DAgT4YJCY\\u002fSN8JPo6qMD+t7iQ\\u002fbh2SPqXp0Dzf2zU9IEBnP2iGfj87Gio+CFNLPu64Qj75mYE+kgi2Pi7QOz5Mzl48S1E\\u002fPcTxfj+UTXg\\u002fTI7APe+KBj7g6HU+IQrrPcVpPT6pS489\",\"shape\":\"12, 10\"},\"type\":\"heatmap\",\"xaxis\":\"x\",\"yaxis\":\"y\",\"hovertemplate\":\"Input Tokens: %{x}\\u003cbr\\u003eLayers: %{y}\\u003cbr\\u003eProbability: %{z}\\u003cextra\\u003e\\u003c\\u002fextra\\u003e\",\"text\":[[\"\\\\n\",\" E\",\"iff\",\"el\",\" Tower\",\" not\",\" the\",\" same\",\"scape\",\" the\"],[\" the\",\"Z\",\"ness\",\"ter\",\" Tower\",\" not\",\" order\",\" same\",\"scape\",\" the\"],[\" the\",\"leg\",\"ness\",\"ter\",\" Tower\",\" now\",\" order\",\" same\",\"scape\",\" the\"],[\" the\",\"leg\",\"ness\",\"stra\",\" Tower\",\" also\",\" the\",\" same\",\" hall\",\" the\"],[\" the\",\"leg\",\"ness\",\"horn\",\" Tower\",\" also\",\" front\",\" same\",\"scape\",\" the\"],[\" the\",\"FP\",\"ler\",\" Tower\",\" Towers\",\" also\",\" the\",\" same\",\"scape\",\" the\"],[\" the\",\"FP\",\"ler\",\" Tower\",\" Tower\",\" also\",\" front\",\" midst\",\"scape\",\" East\"],[\" the\",\"FP\",\"ler\",\" Tower\",\" Tower\",\" located\",\" front\",\" midst\",\" centre\",\" Ing\"],[\" the\",\"TS\",\"ler\",\" Tower\",\" Tower\",\" located\",\" front\",\" midst\",\" centre\",\" Rome\"],[\" the\",\"FP\",\"el\",\" Tower\",\" tower\",\" located\",\" London\",\" midst\",\" centre\",\" London\"],[\" the\",\"nerg\",\"el\",\" Tower\",\" is\",\" located\",\" the\",\" midst\",\"'s\",\" Paris\"],[\"\\\\n\",\"-\",\"el\",\" Tower\",\" is\",\" a\",\" the\",\" middle\",\" centre\",\" Paris\"]]}],                        {\"template\":{\"data\":{\"histogram2dcontour\":[{\"type\":\"histogram2dcontour\",\"colorbar\":{\"outlinewidth\":0,\"ticks\":\"\"},\"colorscale\":[[0.0,\"#0d0887\"],[0.1111111111111111,\"#46039f\"],[0.2222222222222222,\"#7201a8\"],[0.3333333333333333,\"#9c179e\"],[0.4444444444444444,\"#bd3786\"],[0.5555555555555556,\"#d8576b\"],[0.6666666666666666,\"#ed7953\"],[0.7777777777777778,\"#fb9f3a\"],[0.8888888888888888,\"#fdca26\"],[1.0,\"#f0f921\"]]}],\"choropleth\":[{\"type\":\"choropleth\",\"colorbar\":{\"outlinewidth\":0,\"ticks\":\"\"}}],\"histogram2d\":[{\"type\":\"histogram2d\",\"colorbar\":{\"outlinewidth\":0,\"ticks\":\"\"},\"colorscale\":[[0.0,\"#0d0887\"],[0.1111111111111111,\"#46039f\"],[0.2222222222222222,\"#7201a8\"],[0.3333333333333333,\"#9c179e\"],[0.4444444444444444,\"#bd3786\"],[0.5555555555555556,\"#d8576b\"],[0.6666666666666666,\"#ed7953\"],[0.7777777777777778,\"#fb9f3a\"],[0.8888888888888888,\"#fdca26\"],[1.0,\"#f0f921\"]]}],\"heatmap\":[{\"type\":\"heatmap\",\"colorbar\":{\"outlinewidth\":0,\"ticks\":\"\"},\"colorscale\":[[0.0,\"#0d0887\"],[0.1111111111111111,\"#46039f\"],[0.2222222222222222,\"#7201a8\"],[0.3333333333333333,\"#9c179e\"],[0.4444444444444444,\"#bd3786\"],[0.5555555555555556,\"#d8576b\"],[0.6666666666666666,\"#ed7953\"],[0.7777777777777778,\"#fb9f3a\"],[0.8888888888888888,\"#fdca26\"],[1.0,\"#f0f921\"]]}],\"contourcarpet\":[{\"type\":\"contourcarpet\",\"colorbar\":{\"outlinewidth\":0,\"ticks\":\"\"}}],\"contour\":[{\"type\":\"contour\",\"colorbar\":{\"outlinewidth\":0,\"ticks\":\"\"},\"colorscale\":[[0.0,\"#0d0887\"],[0.1111111111111111,\"#46039f\"],[0.2222222222222222,\"#7201a8\"],[0.3333333333333333,\"#9c179e\"],[0.4444444444444444,\"#bd3786\"],[0.5555555555555556,\"#d8576b\"],[0.6666666666666666,\"#ed7953\"],[0.7777777777777778,\"#fb9f3a\"],[0.8888888888888888,\"#fdca26\"],[1.0,\"#f0f921\"]]}],\"surface\":[{\"type\":\"surface\",\"colorbar\":{\"outlinewidth\":0,\"ticks\":\"\"},\"colorscale\":[[0.0,\"#0d0887\"],[0.1111111111111111,\"#46039f\"],[0.2222222222222222,\"#7201a8\"],[0.3333333333333333,\"#9c179e\"],[0.4444444444444444,\"#bd3786\"],[0.5555555555555556,\"#d8576b\"],[0.6666666666666666,\"#ed7953\"],[0.7777777777777778,\"#fb9f3a\"],[0.8888888888888888,\"#fdca26\"],[1.0,\"#f0f921\"]]}],\"mesh3d\":[{\"type\":\"mesh3d\",\"colorbar\":{\"outlinewidth\":0,\"ticks\":\"\"}}],\"scatter\":[{\"fillpattern\":{\"fillmode\":\"overlay\",\"size\":10,\"solidity\":0.2},\"type\":\"scatter\"}],\"parcoords\":[{\"type\":\"parcoords\",\"line\":{\"colorbar\":{\"outlinewidth\":0,\"ticks\":\"\"}}}],\"scatterpolargl\":[{\"type\":\"scatterpolargl\",\"marker\":{\"colorbar\":{\"outlinewidth\":0,\"ticks\":\"\"}}}],\"bar\":[{\"error_x\":{\"color\":\"#2a3f5f\"},\"error_y\":{\"color\":\"#2a3f5f\"},\"marker\":{\"line\":{\"color\":\"#E5ECF6\",\"width\":0.5},\"pattern\":{\"fillmode\":\"overlay\",\"size\":10,\"solidity\":0.2}},\"type\":\"bar\"}],\"scattergeo\":[{\"type\":\"scattergeo\",\"marker\":{\"colorbar\":{\"outlinewidth\":0,\"ticks\":\"\"}}}],\"scatterpolar\":[{\"type\":\"scatterpolar\",\"marker\":{\"colorbar\":{\"outlinewidth\":0,\"ticks\":\"\"}}}],\"histogram\":[{\"marker\":{\"pattern\":{\"fillmode\":\"overlay\",\"size\":10,\"solidity\":0.2}},\"type\":\"histogram\"}],\"scattergl\":[{\"type\":\"scattergl\",\"marker\":{\"colorbar\":{\"outlinewidth\":0,\"ticks\":\"\"}}}],\"scatter3d\":[{\"type\":\"scatter3d\",\"line\":{\"colorbar\":{\"outlinewidth\":0,\"ticks\":\"\"}},\"marker\":{\"colorbar\":{\"outlinewidth\":0,\"ticks\":\"\"}}}],\"scattermap\":[{\"type\":\"scattermap\",\"marker\":{\"colorbar\":{\"outlinewidth\":0,\"ticks\":\"\"}}}],\"scattermapbox\":[{\"type\":\"scattermapbox\",\"marker\":{\"colorbar\":{\"outlinewidth\":0,\"ticks\":\"\"}}}],\"scatterternary\":[{\"type\":\"scatterternary\",\"marker\":{\"colorbar\":{\"outlinewidth\":0,\"ticks\":\"\"}}}],\"scattercarpet\":[{\"type\":\"scattercarpet\",\"marker\":{\"colorbar\":{\"outlinewidth\":0,\"ticks\":\"\"}}}],\"carpet\":[{\"aaxis\":{\"endlinecolor\":\"#2a3f5f\",\"gridcolor\":\"white\",\"linecolor\":\"white\",\"minorgridcolor\":\"white\",\"startlinecolor\":\"#2a3f5f\"},\"baxis\":{\"endlinecolor\":\"#2a3f5f\",\"gridcolor\":\"white\",\"linecolor\":\"white\",\"minorgridcolor\":\"white\",\"startlinecolor\":\"#2a3f5f\"},\"type\":\"carpet\"}],\"table\":[{\"cells\":{\"fill\":{\"color\":\"#EBF0F8\"},\"line\":{\"color\":\"white\"}},\"header\":{\"fill\":{\"color\":\"#C8D4E3\"},\"line\":{\"color\":\"white\"}},\"type\":\"table\"}],\"barpolar\":[{\"marker\":{\"line\":{\"color\":\"#E5ECF6\",\"width\":0.5},\"pattern\":{\"fillmode\":\"overlay\",\"size\":10,\"solidity\":0.2}},\"type\":\"barpolar\"}],\"pie\":[{\"automargin\":true,\"type\":\"pie\"}]},\"layout\":{\"autotypenumbers\":\"strict\",\"colorway\":[\"#636efa\",\"#EF553B\",\"#00cc96\",\"#ab63fa\",\"#FFA15A\",\"#19d3f3\",\"#FF6692\",\"#B6E880\",\"#FF97FF\",\"#FECB52\"],\"font\":{\"color\":\"#2a3f5f\"},\"hovermode\":\"closest\",\"hoverlabel\":{\"align\":\"left\"},\"paper_bgcolor\":\"white\",\"plot_bgcolor\":\"#E5ECF6\",\"polar\":{\"bgcolor\":\"#E5ECF6\",\"angularaxis\":{\"gridcolor\":\"white\",\"linecolor\":\"white\",\"ticks\":\"\"},\"radialaxis\":{\"gridcolor\":\"white\",\"linecolor\":\"white\",\"ticks\":\"\"}},\"ternary\":{\"bgcolor\":\"#E5ECF6\",\"aaxis\":{\"gridcolor\":\"white\",\"linecolor\":\"white\",\"ticks\":\"\"},\"baxis\":{\"gridcolor\":\"white\",\"linecolor\":\"white\",\"ticks\":\"\"},\"caxis\":{\"gridcolor\":\"white\",\"linecolor\":\"white\",\"ticks\":\"\"}},\"coloraxis\":{\"colorbar\":{\"outlinewidth\":0,\"ticks\":\"\"}},\"colorscale\":{\"sequential\":[[0.0,\"#0d0887\"],[0.1111111111111111,\"#46039f\"],[0.2222222222222222,\"#7201a8\"],[0.3333333333333333,\"#9c179e\"],[0.4444444444444444,\"#bd3786\"],[0.5555555555555556,\"#d8576b\"],[0.6666666666666666,\"#ed7953\"],[0.7777777777777778,\"#fb9f3a\"],[0.8888888888888888,\"#fdca26\"],[1.0,\"#f0f921\"]],\"sequentialminus\":[[0.0,\"#0d0887\"],[0.1111111111111111,\"#46039f\"],[0.2222222222222222,\"#7201a8\"],[0.3333333333333333,\"#9c179e\"],[0.4444444444444444,\"#bd3786\"],[0.5555555555555556,\"#d8576b\"],[0.6666666666666666,\"#ed7953\"],[0.7777777777777778,\"#fb9f3a\"],[0.8888888888888888,\"#fdca26\"],[1.0,\"#f0f921\"]],\"diverging\":[[0,\"#8e0152\"],[0.1,\"#c51b7d\"],[0.2,\"#de77ae\"],[0.3,\"#f1b6da\"],[0.4,\"#fde0ef\"],[0.5,\"#f7f7f7\"],[0.6,\"#e6f5d0\"],[0.7,\"#b8e186\"],[0.8,\"#7fbc41\"],[0.9,\"#4d9221\"],[1,\"#276419\"]]},\"xaxis\":{\"gridcolor\":\"white\",\"linecolor\":\"white\",\"ticks\":\"\",\"title\":{\"standoff\":15},\"zerolinecolor\":\"white\",\"automargin\":true,\"zerolinewidth\":2},\"yaxis\":{\"gridcolor\":\"white\",\"linecolor\":\"white\",\"ticks\":\"\",\"title\":{\"standoff\":15},\"zerolinecolor\":\"white\",\"automargin\":true,\"zerolinewidth\":2},\"scene\":{\"xaxis\":{\"backgroundcolor\":\"#E5ECF6\",\"gridcolor\":\"white\",\"linecolor\":\"white\",\"showbackground\":true,\"ticks\":\"\",\"zerolinecolor\":\"white\",\"gridwidth\":2},\"yaxis\":{\"backgroundcolor\":\"#E5ECF6\",\"gridcolor\":\"white\",\"linecolor\":\"white\",\"showbackground\":true,\"ticks\":\"\",\"zerolinecolor\":\"white\",\"gridwidth\":2},\"zaxis\":{\"backgroundcolor\":\"#E5ECF6\",\"gridcolor\":\"white\",\"linecolor\":\"white\",\"showbackground\":true,\"ticks\":\"\",\"zerolinecolor\":\"white\",\"gridwidth\":2}},\"shapedefaults\":{\"line\":{\"color\":\"#2a3f5f\"}},\"annotationdefaults\":{\"arrowcolor\":\"#2a3f5f\",\"arrowhead\":0,\"arrowwidth\":1},\"geo\":{\"bgcolor\":\"white\",\"landcolor\":\"#E5ECF6\",\"subunitcolor\":\"white\",\"showland\":true,\"showlakes\":true,\"lakecolor\":\"white\"},\"title\":{\"x\":0.05},\"mapbox\":{\"style\":\"light\"}}},\"xaxis\":{\"anchor\":\"y\",\"domain\":[0.0,1.0],\"scaleanchor\":\"y\",\"constrain\":\"domain\",\"title\":{\"text\":\"Input Tokens\"},\"tickangle\":0},\"yaxis\":{\"anchor\":\"x\",\"domain\":[0.0,1.0],\"autorange\":\"reversed\",\"constrain\":\"domain\",\"title\":{\"text\":\"Layers\"}},\"coloraxis\":{\"colorbar\":{\"title\":{\"text\":\"Probability\"}},\"colorscale\":[[0.0,\"rgb(49,54,149)\"],[0.1,\"rgb(69,117,180)\"],[0.2,\"rgb(116,173,209)\"],[0.3,\"rgb(171,217,233)\"],[0.4,\"rgb(224,243,248)\"],[0.5,\"rgb(255,255,191)\"],[0.6,\"rgb(254,224,144)\"],[0.7,\"rgb(253,174,97)\"],[0.8,\"rgb(244,109,67)\"],[0.9,\"rgb(215,48,39)\"],[1.0,\"rgb(165,0,38)\"]],\"cmid\":0.5},\"margin\":{\"t\":60},\"title\":{\"text\":\"Logit Lens Visualization\"}},                        {\"responsive\": true}                    ).then(function(){\n",
       "                            \n",
       "var gd = document.getElementById('c724c0a3-23da-484d-af56-a6ab99640103');\n",
       "var x = new MutationObserver(function (mutations, observer) {{\n",
       "        var display = window.getComputedStyle(gd).display;\n",
       "        if (!display || display === 'none') {{\n",
       "            console.log([gd, 'removed!']);\n",
       "            Plotly.purge(gd);\n",
       "            observer.disconnect();\n",
       "        }}\n",
       "}});\n",
       "\n",
       "// Listen for the removal of the full notebook cells\n",
       "var notebookContainer = gd.closest('#notebook-container');\n",
       "if (notebookContainer) {{\n",
       "    x.observe(notebookContainer, {childList: true});\n",
       "}}\n",
       "\n",
       "// Listen for the clearing of the current output cell\n",
       "var outputEl = gd.closest('.output');\n",
       "if (outputEl) {{\n",
       "    x.observe(outputEl, {childList: true});\n",
       "}}\n",
       "\n",
       "                        })                };            </script>        </div>\n",
       "</body>\n",
       "</html>"
      ]
     },
     "metadata": {},
     "output_type": "display_data"
    }
   ],
   "source": [
    "import plotly.express as px\n",
    "import plotly.io as pio\n",
    "\n",
    "pio.renderers.default = \"colab\"\n",
    "\n",
    "fig = px.imshow(\n",
    "    max_probs.detach().cpu().numpy(),\n",
    "    x=input_words,\n",
    "    y=list(range(len(words))),\n",
    "    color_continuous_scale=px.colors.diverging.RdYlBu_r,\n",
    "    color_continuous_midpoint=0.50,\n",
    "    text_auto=True,\n",
    "    labels=dict(x=\"Input Tokens\", y=\"Layers\", color=\"Probability\")\n",
    ")\n",
    "\n",
    "fig.update_layout(\n",
    "    title='Logit Lens Visualization',\n",
    "    xaxis_tickangle=0\n",
    ")\n",
    "\n",
    "fig.update_traces(text=words, texttemplate=\"%{text}\")\n",
    "fig.show()"
   ]
  },
  {
   "cell_type": "markdown",
   "id": "73b405fb-52b2-4219-9fbc-64d9c7432cbd",
   "metadata": {},
   "source": [
    "Note that you can also try logit lens visualization using a different library: `tuned-lens`. See the official tutorial [here](https://colab.research.google.com/github/AlignmentResearch/tuned-lens/blob/main/notebooks/interactive.ipynb). Unfortunately, tuned-lens does not support the latest version of torch, thus we will skip it in the current tutorial."
   ]
  },
  {
   "cell_type": "code",
   "execution_count": null,
   "id": "5e63a66a-555f-42f2-8b01-7c995ba6f642",
   "metadata": {},
   "outputs": [],
   "source": []
  }
 ],
 "metadata": {
  "kernelspec": {
   "display_name": "Python 3 (ipykernel)",
   "language": "python",
   "name": "python3"
  },
  "language_info": {
   "codemirror_mode": {
    "name": "ipython",
    "version": 3
   },
   "file_extension": ".py",
   "mimetype": "text/x-python",
   "name": "python",
   "nbconvert_exporter": "python",
   "pygments_lexer": "ipython3",
   "version": "3.11.11"
  }
 },
 "nbformat": 4,
 "nbformat_minor": 5
}
